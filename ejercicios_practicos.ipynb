{
 "cells": [
  {
   "cell_type": "markdown",
   "metadata": {},
   "source": [
    "## Ejercicios prácticos - Checkpoint 5"
   ]
  },
  {
   "cell_type": "markdown",
   "metadata": {},
   "source": [
    "## 1. Cree un bucle For de Python.\n",
    "\n",
    "El bucle for se utiliza para iterar sobre objetos iterables como listas, cadenas de texto, rangos, tuplas etc.\n",
    "\n",
    "Por ejemplo, vamos a crear una lista de la compra y usando el bucle for, va imprimir cada uno de los alimentos que hay que comprar:"
   ]
  },
  {
   "cell_type": "code",
   "execution_count": 1,
   "metadata": {},
   "outputs": [
    {
     "name": "stdout",
     "output_type": "stream",
     "text": [
      "Tomates\n",
      "Patatas\n",
      "Jamón\n",
      "Leche\n"
     ]
    }
   ],
   "source": [
    "lista_compra = ['Tomates', 'Patatas', 'Jamón', 'Leche']\n",
    "\n",
    "for alimento in lista_compra:\n",
    "    print(alimento)"
   ]
  },
  {
   "cell_type": "markdown",
   "metadata": {},
   "source": [
    "## 2. Cree una función de Python llamada suma que tome 3 argumentos y devuelva la suma de los 3.\n",
    "\n",
    "Dado que el ejercicio especifica 3 argumentos, se va a crear una función con tres argumentos posicionales que van a ser num1, num2 y num3:"
   ]
  },
  {
   "cell_type": "code",
   "execution_count": 2,
   "metadata": {},
   "outputs": [
    {
     "name": "stdout",
     "output_type": "stream",
     "text": [
      "6\n"
     ]
    }
   ],
   "source": [
    "def suma(num1, num2, num3):\n",
    "    return num1 + num2 + num3\n",
    "\n",
    "resultado = suma(1, 2, 3)\n",
    "\n",
    "print(resultado)"
   ]
  },
  {
   "cell_type": "markdown",
   "metadata": {},
   "source": [
    "## 3. Cree una función lambda con la misma funcionalidad que la función de suma que acaba de crear.\n",
    "\n",
    "Una funcion lambda es una función pequeña de una sola linea que se usa de forma rápida sin tener que definirla usando def. Dentro de esta función se especifican los argumentos y la expresión de la función de la siguiente forma:\n",
    "\n",
    "    lambda argumentos: expresión\n",
    "\n",
    "En este caso, los argumentos serían los mismos que se encuentran en la función de suma anterior, es decir, num1, num2 y num3. La expresión sería la operación que se quiere que realizen esos argumentos, en este caso la suma, por lo que la expresión sería num1 + num2 + num3. A continuación muestro la función lambda completa:"
   ]
  },
  {
   "cell_type": "code",
   "execution_count": 3,
   "metadata": {},
   "outputs": [
    {
     "name": "stdout",
     "output_type": "stream",
     "text": [
      "6\n"
     ]
    }
   ],
   "source": [
    "suma_lambda = lambda num1, num2, num3: num1 + num2 + num3\n",
    "\n",
    "resultado_lambda = suma_lambda(1, 2, 3)\n",
    "\n",
    "print(resultado_lambda)"
   ]
  },
  {
   "cell_type": "markdown",
   "metadata": {},
   "source": [
    "## 4. Utilizando la siguiente lista y variable, determine si el valor de la variable coincide o no con un valor de la lista. *Sugerencia, si es necesario, utilice un bucle for in y el operador in.\n",
    "\n",
    "    nombre = 'Enrique'\n",
    "\n",
    "    lista_nombre = 'Jessica', 'Paul', 'George', 'Henry', 'Adán'\n",
    "\n",
    "Este ejercicio se puede realizar de distintas formas. Dado que tenemos un nombre que hay que buscar dentro de una lista, se puede realizar unsando el bucle for in para iterar sobre la lista uno por uno y ver si el nombre coincide con algún elemento dentro de la lista, o también se pueden usar los operadores if + in para localizar el nombre dentro de la lista."
   ]
  },
  {
   "cell_type": "code",
   "execution_count": 4,
   "metadata": {},
   "outputs": [],
   "source": [
    "nombre = 'Enrique'\n",
    "lista_nombre = ['Jessica', 'Paul', 'George', 'Henry', 'Adán']"
   ]
  },
  {
   "cell_type": "code",
   "execution_count": 5,
   "metadata": {},
   "outputs": [],
   "source": [
    "'''\n",
    "Opción 1: Esta opción usa el bucle for para iterar sobre cada elemento de la lista e imprimir el mensaje de: El nombre Enrique se encuentra en la lista si hay coincidencia. Esta iteración\n",
    "se realiza con el límite de la longitud de la lista usando el rango de len(lista_nombre).\n",
    "Además, he añadido un break para terminar el bucle for, ya que nos interesa saber únicamente si aparece. Esto es muy útil porque si la lista tuviese cientos de nombres, aunque encontrase un 'Enrique', \n",
    "seguiría iterando sobre la lista buscando todas las coincidencias.\n",
    "En caso de no tener coincidencia, no se imprimiría nada.\n",
    "'''\n",
    "\n",
    "for i in range(len(lista_nombre)):\n",
    "    if lista_nombre[i] == nombre:\n",
    "        print(f'El nombre {nombre} se encuentra en la lista')\n",
    "        break # En el caso en el que se encuentre el nombre, se sale del bucle para no seguir buscando"
   ]
  },
  {
   "cell_type": "code",
   "execution_count": 6,
   "metadata": {},
   "outputs": [
    {
     "name": "stdout",
     "output_type": "stream",
     "text": [
      "El nombre Enrique no coincide con ningun valor de la lista\n"
     ]
    }
   ],
   "source": [
    "''''\n",
    "Opción 2: En el caso en el que nos interese imprimir un mensaje tanto si aparece como si no, podemos añadir un bloque if posterior. \n",
    "Se puede crear una variable booleana con False e iterar en bucle sobre la lista usando la longitud de la lista como límite del bucle. \n",
    "De esta forma, mientras la variable booleana sea False y hasta len(lista_nombre), se ejecura el bloque de ver si el elemento de la lista es igual al nombre. En el caso en el que se encuentre,\n",
    "la variable coincide pasa a ser True, por lo que usando break se rompe el bucle e imprime el mensaje de: El nombre Enrique se encuentra en la lista. Pero por lo contrario, si no coincide con ningún\n",
    "elemento de la lista, se pasa al segundo bloque if e imprime el mensaje de: El nombre Enrique no coincide con ningun valor de la lista\n",
    "'''\n",
    "coincide = False\n",
    "\n",
    "for i in range(len(lista_nombre)):\n",
    "    if lista_nombre[i] == nombre:\n",
    "        print(f'El nombre {nombre} se encuentra en la lista')\n",
    "        coincide = True\n",
    "        break\n",
    "if not coincide:\n",
    "    print(f'El nombre {nombre} no coincide con ningun valor de la lista')"
   ]
  },
  {
   "cell_type": "code",
   "execution_count": 7,
   "metadata": {},
   "outputs": [
    {
     "name": "stdout",
     "output_type": "stream",
     "text": [
      "El nombre Enrique no coincide con ningun valor de la lista\n"
     ]
    }
   ],
   "source": [
    "''''\n",
    "Opción 3: En vez de usar el bucle for, se puede usar tambien un if + in, que indica un: SI nombre EN lista, y en el caso de verdadero o falso se puede imprimir el mensaje deseado.\n",
    "Esta sería una forma equivalente y más corta que la de la Opción 2.\n",
    "'''\n",
    "if nombre in lista_nombre:\n",
    "    print(f'El nombre {nombre} se encuentra en la lista')\n",
    "else:\n",
    "    print(f'El nombre {nombre} no coincide con ningun valor de la lista')"
   ]
  }
 ],
 "metadata": {
  "kernelspec": {
   "display_name": "base",
   "language": "python",
   "name": "python3"
  },
  "language_info": {
   "codemirror_mode": {
    "name": "ipython",
    "version": 3
   },
   "file_extension": ".py",
   "mimetype": "text/x-python",
   "name": "python",
   "nbconvert_exporter": "python",
   "pygments_lexer": "ipython3",
   "version": "3.11.8"
  }
 },
 "nbformat": 4,
 "nbformat_minor": 2
}
