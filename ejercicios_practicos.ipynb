{
 "cells": [
  {
   "cell_type": "markdown",
   "metadata": {},
   "source": [
    "## Ejercicios prácticos - Checkpoint 5"
   ]
  },
  {
   "cell_type": "markdown",
   "metadata": {},
   "source": [
    "1. Cree un bucle For de Python."
   ]
  },
  {
   "cell_type": "code",
   "execution_count": 2,
   "metadata": {},
   "outputs": [
    {
     "name": "stdout",
     "output_type": "stream",
     "text": [
      "Tomates\n",
      "Patatas\n",
      "Jamón\n",
      "Leche\n"
     ]
    }
   ],
   "source": [
    "lista_compra = ['Tomates', 'Patatas', 'Jamón', 'Leche']\n",
    "\n",
    "for alimento in lista_compra:\n",
    "    print(alimento)"
   ]
  },
  {
   "cell_type": "markdown",
   "metadata": {},
   "source": [
    "2. Cree una función de Python llamada suma que tome 3 argumentos y devuelva la suma de los 3."
   ]
  },
  {
   "cell_type": "code",
   "execution_count": 15,
   "metadata": {},
   "outputs": [
    {
     "name": "stdout",
     "output_type": "stream",
     "text": [
      "6\n"
     ]
    }
   ],
   "source": [
    "def suma(num1, num2, num3):\n",
    "    return num1 + num2 + num3\n",
    "\n",
    "resultado = suma(1, 2, 3)\n",
    "\n",
    "print(resultado)"
   ]
  },
  {
   "cell_type": "markdown",
   "metadata": {},
   "source": [
    "3. Cree una función lambda con la misma funcionalidad que la función de suma que acaba de crear."
   ]
  },
  {
   "cell_type": "code",
   "execution_count": 18,
   "metadata": {},
   "outputs": [
    {
     "name": "stdout",
     "output_type": "stream",
     "text": [
      "6\n"
     ]
    }
   ],
   "source": [
    "suma_lambda = lambda num1, num2, num3: num1 + num2 + num3\n",
    "\n",
    "resultado_lambda = suma_lambda(1, 2, 3)\n",
    "\n",
    "print(resultado_lambda)"
   ]
  },
  {
   "cell_type": "markdown",
   "metadata": {},
   "source": [
    "4. Utilizando la siguiente lista y variable, determine si el valor de la variable coincide o no con un valor de la lista. *Sugerencia, si es necesario, utilice un bucle for in y el operador in.\n",
    "\n",
    "    nombre = 'Enrique'\n",
    "\n",
    "    lista_nombre = 'Jessica', 'Paul', 'George', 'Henry', 'Adán'"
   ]
  },
  {
   "cell_type": "code",
   "execution_count": 19,
   "metadata": {},
   "outputs": [],
   "source": [
    "nombre = 'Enrique'\n",
    "lista_nombre = ['Jessica', 'Paul', 'George', 'Henry', 'Adán']\n",
    "\n",
    "for i in range(len(lista_nombre)):\n",
    "    if lista_nombre[i] == nombre:\n",
    "        print(f'El nombre {nombre} se encuentra en la lista')\n",
    "        break # En el caso en el que se encuentre el nombre, se sale del bucle para no seguir buscando"
   ]
  },
  {
   "cell_type": "code",
   "execution_count": 22,
   "metadata": {},
   "outputs": [
    {
     "name": "stdout",
     "output_type": "stream",
     "text": [
      "El nombre Enrique no coincide con ningun valor de la lista\n"
     ]
    }
   ],
   "source": [
    "coincide = False\n",
    "\n",
    "for i in range(len(lista_nombre)):\n",
    "    if lista_nombre[i] == nombre:\n",
    "        print(f'El nombre {nombre} se encuentra en la lista')\n",
    "        coincide = True\n",
    "        break\n",
    "if not coincide:\n",
    "    print(f'El nombre {nombre} no coincide con ningun valor de la lista')"
   ]
  }
 ],
 "metadata": {
  "kernelspec": {
   "display_name": "base",
   "language": "python",
   "name": "python3"
  },
  "language_info": {
   "codemirror_mode": {
    "name": "ipython",
    "version": 3
   },
   "file_extension": ".py",
   "mimetype": "text/x-python",
   "name": "python",
   "nbconvert_exporter": "python",
   "pygments_lexer": "ipython3",
   "version": "3.11.8"
  }
 },
 "nbformat": 4,
 "nbformat_minor": 2
}
