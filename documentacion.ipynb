{
 "cells": [
  {
   "cell_type": "markdown",
   "metadata": {},
   "source": [
    "# Documentación - Checkpoint 5"
   ]
  },
  {
   "cell_type": "markdown",
   "metadata": {},
   "source": [
    "## 1. Condicionales\n",
    "\n",
    "Las sentencias condicionales if, else y elif de Python son una especie de instrucciones que se ejecutan o no, dependiendo de si se cumplen o no las condiciones. Estas se usan en operaciones lógicas para realizar comparaciones."
   ]
  },
  {
   "cell_type": "markdown",
   "metadata": {},
   "source": [
    "### 1.1. Sentencia if\n",
    "\n",
    "La sentencia if ejecuta un blóque de código sólo si la condicion es verdadera. \n",
    "\n",
    "Por ejemplo, imaginemos que un buffet los menores de 8 años comen gratis. En este caso la condición sería, if la persona es menor de 8 = menú gratuito."
   ]
  },
  {
   "cell_type": "code",
   "execution_count": 1,
   "metadata": {},
   "outputs": [],
   "source": [
    "# Tenemos dos personas, una de 5 años y otra de 30 años\n",
    "edad_persona1 = 5\n",
    "edad_persona2 = 30"
   ]
  },
  {
   "cell_type": "code",
   "execution_count": 9,
   "metadata": {},
   "outputs": [
    {
     "name": "stdout",
     "output_type": "stream",
     "text": [
      "El menú de la persona 1 es el siguiente: Menú gratuito\n",
      "El menú de la persona 2 es el siguiente: None\n"
     ]
    }
   ],
   "source": [
    "# Para saber si come gratis, podemos usar la sentencia simple if\n",
    "\n",
    "def come_gratis(edad):\n",
    "    if edad < 8:\n",
    "        return 'Menú gratuito'\n",
    "    \n",
    "tipo_menu_persona1 = come_gratis(edad_persona1)\n",
    "tipo_menu_persona2 = come_gratis(edad_persona2)\n",
    "\n",
    "print(f'El menú de la persona 1 es el siguiente: {tipo_menu_persona1}') # Sólamente en el caso de menores de 8 años se imprimiría el tipo de menú\n",
    "print(f'El menú de la persona 2 es el siguiente: {tipo_menu_persona2}') # En los demás casos se salta el bloque if"
   ]
  },
  {
   "cell_type": "markdown",
   "metadata": {},
   "source": [
    "### 1.2. Sentencia if/else\n",
    "\n",
    "Una vez el bloque if se ha ejecutado, en el caso de no haberse cumplido la condición se saltaría la lógica. Para ello, existe la sentencia else. Esta sentencia sería la alternativa al if, es decir, este bloque se ejecuta cuando la sentencia if no se ha cumplido.\n",
    "\n",
    "Por ejemplo, en el caso anterior, para la persona de 30 años no se imprimiría nada. Pero esto se puede solucionar añadiendo la sentencia else."
   ]
  },
  {
   "cell_type": "code",
   "execution_count": 7,
   "metadata": {},
   "outputs": [
    {
     "name": "stdout",
     "output_type": "stream",
     "text": [
      "El menú de la persona 1 es el siguiente: Menú gratuito\n",
      "El menú de la persona 2 es el siguiente: Menú de pago\n"
     ]
    }
   ],
   "source": [
    "# Para saber el tipo de menú de cada persona dependiendo de la edad, podemos usar la sentencia if/else\n",
    "\n",
    "def come_gratis(edad):\n",
    "    if edad < 8:\n",
    "        return 'Menú gratuito'\n",
    "    else:\n",
    "        return 'Menú de pago'\n",
    "    \n",
    "tipo_menu_persona1 = come_gratis(edad_persona1)\n",
    "tipo_menu_persona2 = come_gratis(edad_persona2)\n",
    "\n",
    "print(f'El menú de la persona 1 es el siguiente: {tipo_menu_persona1}') # En este caso se mantiene el bloque\n",
    "print(f'El menú de la persona 2 es el siguiente: {tipo_menu_persona2}') # Y aquí al tener 8 o más años imprimiría la sentencia alternativa dentro del bloque else"
   ]
  },
  {
   "cell_type": "markdown",
   "metadata": {},
   "source": [
    "### 1.3. Sentencia if/elif/else\n",
    "\n",
    "Para hacer uso de múltiples condiciones, se puede usar la sentencia elif. A diferencia de las anteriores, en un mismo bloque se pueden encontrar una o varias sentencias elif.\n",
    "\n",
    "Por ejemplo, imaginemos que en el buffet los menores de 8 no pagan el menú, las personas de entre 8 y 14 años pagan el menú infantil y los mayores de 14 pagan el menú completo. Aquí se puede añadir el condicional elif para agregar el nuevo bloque condicional."
   ]
  },
  {
   "cell_type": "code",
   "execution_count": 11,
   "metadata": {},
   "outputs": [],
   "source": [
    "edad_persona3 = 12"
   ]
  },
  {
   "cell_type": "code",
   "execution_count": null,
   "metadata": {},
   "outputs": [
    {
     "name": "stdout",
     "output_type": "stream",
     "text": [
      "El menú de la persona 1 es el siguiente: Menú gratuito\n",
      "El menú de la persona 2 es el siguiente: Menú completo\n",
      "El menú de la persona 3 es el siguiente: Menú infantil\n"
     ]
    }
   ],
   "source": [
    "# Para saber el tipo de menú de cada persona dependiendo de la edad, podemos usar la sentencia if/else\n",
    "\n",
    "def come_gratis(edad):\n",
    "    if edad < 8:\n",
    "        return 'Menú gratuito'\n",
    "    elif edad >= 8 and edad <= 14:\n",
    "        return 'Menú infantil'\n",
    "    else:\n",
    "        return 'Menú completo'\n",
    "    \n",
    "tipo_menu_persona1 = come_gratis(edad_persona1)\n",
    "tipo_menu_persona2 = come_gratis(edad_persona2)\n",
    "tipo_menu_persona3 = come_gratis(edad_persona3)\n",
    "\n",
    "print(f'El menú de la persona 1 es el siguiente: {tipo_menu_persona1}')\n",
    "print(f'El menú de la persona 2 es el siguiente: {tipo_menu_persona2}')\n",
    "print(f'El menú de la persona 3 es el siguiente: {tipo_menu_persona3}') # Se salta el bloque if y cumple el bloque elif, asi que imprime 'Menú infantil' sin llegar al bloque else\n"
   ]
  },
  {
   "cell_type": "markdown",
   "metadata": {},
   "source": [
    "## 2. Bucles"
   ]
  },
  {
   "cell_type": "code",
   "execution_count": null,
   "metadata": {},
   "outputs": [],
   "source": []
  },
  {
   "cell_type": "markdown",
   "metadata": {},
   "source": [
    "## 3. Lista por comprensión"
   ]
  },
  {
   "cell_type": "code",
   "execution_count": null,
   "metadata": {},
   "outputs": [],
   "source": []
  },
  {
   "cell_type": "markdown",
   "metadata": {},
   "source": [
    "## 4. Argumento"
   ]
  },
  {
   "cell_type": "code",
   "execution_count": null,
   "metadata": {},
   "outputs": [],
   "source": []
  },
  {
   "cell_type": "markdown",
   "metadata": {},
   "source": [
    "## 5. Función Lambda"
   ]
  },
  {
   "cell_type": "code",
   "execution_count": null,
   "metadata": {},
   "outputs": [],
   "source": []
  },
  {
   "cell_type": "markdown",
   "metadata": {},
   "source": [
    "## 6. Paquete pip"
   ]
  },
  {
   "cell_type": "code",
   "execution_count": null,
   "metadata": {},
   "outputs": [],
   "source": []
  }
 ],
 "metadata": {
  "kernelspec": {
   "display_name": "base",
   "language": "python",
   "name": "python3"
  },
  "language_info": {
   "codemirror_mode": {
    "name": "ipython",
    "version": 3
   },
   "file_extension": ".py",
   "mimetype": "text/x-python",
   "name": "python",
   "nbconvert_exporter": "python",
   "pygments_lexer": "ipython3",
   "version": "3.11.8"
  }
 },
 "nbformat": 4,
 "nbformat_minor": 2
}
