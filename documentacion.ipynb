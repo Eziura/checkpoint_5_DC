{
 "cells": [
  {
   "cell_type": "markdown",
   "metadata": {},
   "source": [
    "# Documentación - Checkpoint 5"
   ]
  },
  {
   "cell_type": "markdown",
   "metadata": {},
   "source": [
    "## 1. Condicionales\n",
    "\n",
    "Las sentencias condicionales if, else y elif de Python son una especie de instrucciones que se ejecutan o no, dependiendo de si se cumplen o no las condiciones. Estas se usan en operaciones lógicas para realizar comparaciones."
   ]
  },
  {
   "cell_type": "markdown",
   "metadata": {},
   "source": [
    "### 1.1. Sentencia if\n",
    "\n",
    "La sentencia if ejecuta un blóque de código sólo si la condicion es verdadera. \n",
    "\n",
    "Por ejemplo, imaginemos que un buffet los menores de 8 años comen gratis. En este caso la condición sería, if la persona es menor de 8 = menú gratuito."
   ]
  },
  {
   "cell_type": "code",
   "execution_count": 35,
   "metadata": {},
   "outputs": [],
   "source": [
    "# Tenemos dos personas, una de 5 años y otra de 30 años\n",
    "edad_persona1 = 5\n",
    "edad_persona2 = 30"
   ]
  },
  {
   "cell_type": "code",
   "execution_count": 36,
   "metadata": {},
   "outputs": [
    {
     "name": "stdout",
     "output_type": "stream",
     "text": [
      "El menú de la persona 1 es el siguiente: Menú gratuito\n",
      "El menú de la persona 2 es el siguiente: None\n"
     ]
    }
   ],
   "source": [
    "# Para saber si come gratis, podemos usar la sentencia simple if\n",
    "\n",
    "def come_gratis(edad):\n",
    "    if edad < 8:\n",
    "        return 'Menú gratuito'\n",
    "    \n",
    "tipo_menu_persona1 = come_gratis(edad_persona1)\n",
    "tipo_menu_persona2 = come_gratis(edad_persona2)\n",
    "\n",
    "print(f'El menú de la persona 1 es el siguiente: {tipo_menu_persona1}') # Sólamente en el caso de menores de 8 años se imprimiría el tipo de menú\n",
    "print(f'El menú de la persona 2 es el siguiente: {tipo_menu_persona2}') # En los demás casos se salta el bloque if"
   ]
  },
  {
   "cell_type": "markdown",
   "metadata": {},
   "source": [
    "### 1.2. Sentencia if/else\n",
    "\n",
    "Una vez el bloque if se ha ejecutado, en el caso de no haberse cumplido la condición se saltaría la lógica. Para ello, existe la sentencia else. Esta sentencia sería la alternativa al if, es decir, este bloque se ejecuta cuando la sentencia if no se ha cumplido.\n",
    "\n",
    "Por ejemplo, en el caso anterior, para la persona de 30 años no se imprimiría nada. Pero esto se puede solucionar añadiendo la sentencia else."
   ]
  },
  {
   "cell_type": "code",
   "execution_count": 37,
   "metadata": {},
   "outputs": [
    {
     "name": "stdout",
     "output_type": "stream",
     "text": [
      "El menú de la persona 1 es el siguiente: Menú gratuito\n",
      "El menú de la persona 2 es el siguiente: Menú de pago\n"
     ]
    }
   ],
   "source": [
    "# Para saber el tipo de menú de cada persona dependiendo de la edad, podemos usar la sentencia if/else\n",
    "\n",
    "def come_gratis(edad):\n",
    "    if edad < 8:\n",
    "        return 'Menú gratuito'\n",
    "    else:\n",
    "        return 'Menú de pago'\n",
    "    \n",
    "tipo_menu_persona1 = come_gratis(edad_persona1)\n",
    "tipo_menu_persona2 = come_gratis(edad_persona2)\n",
    "\n",
    "print(f'El menú de la persona 1 es el siguiente: {tipo_menu_persona1}') # En este caso se mantiene el bloque\n",
    "print(f'El menú de la persona 2 es el siguiente: {tipo_menu_persona2}') # Y aquí al tener 8 o más años imprimiría la sentencia alternativa dentro del bloque else"
   ]
  },
  {
   "cell_type": "markdown",
   "metadata": {},
   "source": [
    "### 1.3. Sentencia if/elif/else\n",
    "\n",
    "Para hacer uso de múltiples condiciones, se puede usar la sentencia elif. A diferencia de las anteriores, en un mismo bloque se pueden encontrar una o varias sentencias elif.\n",
    "\n",
    "Por ejemplo, imaginemos que en el buffet los menores de 8 no pagan el menú, las personas de entre 8 y 14 años pagan el menú infantil y los mayores de 14 pagan el menú completo. Aquí se puede añadir el condicional elif para agregar el nuevo bloque condicional."
   ]
  },
  {
   "cell_type": "code",
   "execution_count": 38,
   "metadata": {},
   "outputs": [],
   "source": [
    "# Añadimos una tercera persona\n",
    "edad_persona3 = 12"
   ]
  },
  {
   "cell_type": "code",
   "execution_count": 39,
   "metadata": {},
   "outputs": [
    {
     "name": "stdout",
     "output_type": "stream",
     "text": [
      "El menú de la persona 1 es el siguiente: Menú gratuito\n",
      "El menú de la persona 2 es el siguiente: Menú completo\n",
      "El menú de la persona 3 es el siguiente: Menú infantil\n"
     ]
    }
   ],
   "source": [
    "# Para saber el tipo de menú de cada persona dependiendo de la edad, podemos usar la sentencia if/else\n",
    "\n",
    "def come_gratis(edad):\n",
    "    if edad < 8:\n",
    "        return 'Menú gratuito'\n",
    "    elif edad >= 8 and edad <= 14:\n",
    "        return 'Menú infantil'\n",
    "    else:\n",
    "        return 'Menú completo'\n",
    "    \n",
    "tipo_menu_persona1 = come_gratis(edad_persona1)\n",
    "tipo_menu_persona2 = come_gratis(edad_persona2)\n",
    "tipo_menu_persona3 = come_gratis(edad_persona3)\n",
    "\n",
    "print(f'El menú de la persona 1 es el siguiente: {tipo_menu_persona1}')\n",
    "print(f'El menú de la persona 2 es el siguiente: {tipo_menu_persona2}')\n",
    "print(f'El menú de la persona 3 es el siguiente: {tipo_menu_persona3}') # Se salta el bloque if y cumple el bloque elif, asi que imprime 'Menú infantil' sin llegar al bloque else\n"
   ]
  },
  {
   "cell_type": "markdown",
   "metadata": {},
   "source": [
    "## 2. Bucles\n",
    "\n",
    "Los bucles se utilizan para repetir un bloque de código múltiples veces. Esta repetición se realiza una y otra vez hasta que la condición especificada se vuelve Falsa o se encuentra fuera de rango.\n",
    "En Python existen dos tipos de bucle: for y while.\n"
   ]
  },
  {
   "cell_type": "markdown",
   "metadata": {},
   "source": [
    "### 2.1. Bucle for\n",
    "\n",
    "El bucle for se utiliza para iterar sobre listas, tuplas, strings o rangos especificados. El bloque de código se ejecuta para los elementos especificados y finaliza cuando ya no quedan más elementos para recorrer, es decir, cuando está fuera de rango.\n",
    "\n",
    "Por ejemplo, imaginemos que tenemos una lista de la compra con varios productos y queremos ver uno a uno los productos de la lista. Para esto, podríamos usar un bucle for."
   ]
  },
  {
   "cell_type": "code",
   "execution_count": 40,
   "metadata": {},
   "outputs": [],
   "source": [
    "lista_compra = ['Tomates', 'Patatas', 'Jamón', 'Leche']"
   ]
  },
  {
   "cell_type": "code",
   "execution_count": 41,
   "metadata": {},
   "outputs": [
    {
     "name": "stdout",
     "output_type": "stream",
     "text": [
      "Tomates\n",
      "Patatas\n",
      "Jamón\n",
      "Leche\n"
     ]
    }
   ],
   "source": [
    "# Usamos el bucle for para recorrer la lista e imprimir cada uno de los elementos\n",
    "for alimento in lista_compra:\n",
    "    print(alimento)"
   ]
  },
  {
   "cell_type": "markdown",
   "metadata": {},
   "source": [
    "Como he mencionado, también se puede usar indicando un rango específico para generar una secuencia de números. Por ejemplo, vamos a imprimir todos los números del 1 al 10 usando el bucle for."
   ]
  },
  {
   "cell_type": "code",
   "execution_count": 42,
   "metadata": {},
   "outputs": [
    {
     "name": "stdout",
     "output_type": "stream",
     "text": [
      "1\n",
      "2\n",
      "3\n",
      "4\n",
      "5\n",
      "6\n",
      "7\n",
      "8\n",
      "9\n",
      "10\n"
     ]
    }
   ],
   "source": [
    "# Se imprime desde el primer numero indicado hasta el último - 1\n",
    "for num in range(1, 11):\n",
    "    print(num)"
   ]
  },
  {
   "cell_type": "markdown",
   "metadata": {},
   "source": [
    "También se pueden recorrer cadenas de texto."
   ]
  },
  {
   "cell_type": "code",
   "execution_count": 43,
   "metadata": {},
   "outputs": [
    {
     "name": "stdout",
     "output_type": "stream",
     "text": [
      "H\n",
      "o\n",
      "l\n",
      "a\n",
      " \n",
      "m\n",
      "u\n",
      "n\n",
      "d\n",
      "o\n"
     ]
    }
   ],
   "source": [
    "frase = 'Hola mundo'\n",
    "\n",
    "for letra in frase:\n",
    "    print(letra) # Esto imprime cada uno de los caracteres dentro de la cadena de texto"
   ]
  },
  {
   "cell_type": "markdown",
   "metadata": {},
   "source": [
    "### 2.2. Bucle while\n",
    "\n",
    "A diferencia del bucle for, el bucle while se ejecura mientras una condicion dada es verdadera. El problema de estos bucles es que como no se conoce el número exacto de repeticiones, si no hay alguna lógica que corte el bucle se pueden generar bucles infinitos.\n",
    "\n",
    "Por ejemplo, si queremos imprimir los números del 1 al 10 usando un bucle while, necesitamos crear un contador."
   ]
  },
  {
   "cell_type": "code",
   "execution_count": 44,
   "metadata": {},
   "outputs": [
    {
     "name": "stdout",
     "output_type": "stream",
     "text": [
      "1\n",
      "2\n",
      "3\n",
      "4\n",
      "5\n",
      "6\n",
      "7\n",
      "8\n",
      "9\n",
      "10\n"
     ]
    }
   ],
   "source": [
    "contador = 1\n",
    "\n",
    "while contador <= 10:\n",
    "    print(contador) # Comienza imprimiendo el valor inicial del contador\n",
    "    contador += 1 # MUY IMPORTANTE sumarle el valor al contador"
   ]
  },
  {
   "cell_type": "markdown",
   "metadata": {},
   "source": [
    "En el ejemplo anterior, si no se hubiese sumado +1 al contador y se hubiese ejecutado el código, debido a que el valor del contador permanecería siendo 1 y es menor de 10, se imprimiria el valor de 1 de forma infinita. Hasta que el bloque no detecta que el contador ha llegado al valor de 11 (ya no es ni menos ni igual a 10), continúa ejecutandose sin fin."
   ]
  },
  {
   "cell_type": "markdown",
   "metadata": {},
   "source": [
    "### 2.3. Romper bucles\n",
    "\n",
    "Una parte importante dentro de los bucles es poder pararlos o saltarlos. Para ello tenemos las sentencias break y continue. Estas se pueden utilizar tanto para bucles for como while."
   ]
  },
  {
   "cell_type": "markdown",
   "metadata": {},
   "source": [
    "#### Sentencia break\n",
    "\n",
    "Esta sentencia termina de inmediato la ejecución del bloque independientemente de si se ha cumplido la condición indicada o no.\n",
    "\n",
    "Es muy util por ejemplo si se está buscando una condición específica que necesita salir del bucle.\n",
    "\n",
    "Por ejemplo, dando un rango del 1 al 100, vamos a dejar que el código imprima todos los números hasta que aparezca el primer múltiplo de 5."
   ]
  },
  {
   "cell_type": "code",
   "execution_count": 45,
   "metadata": {},
   "outputs": [
    {
     "name": "stdout",
     "output_type": "stream",
     "text": [
      "1\n",
      "2\n",
      "3\n",
      "4\n",
      "El número 5 es múltiplo de 5, se rompe el bucle\n"
     ]
    }
   ],
   "source": [
    "# Con el bucle for se usaría el rango de 1 a 101\n",
    "\n",
    "for num in range(1, 101): # Aquí generamos un rango del 1 al 100\n",
    "    if num % 5 != 0: # Se imprime si num NO ES divisible entre 5 (resto desigual a 0)\n",
    "        print(num)\n",
    "    else:\n",
    "        print(f'El número {num} es múltiplo de 5, se rompe el bucle')\n",
    "        break # Rompe el bucle si se llega a este bloque de codigo"
   ]
  },
  {
   "cell_type": "code",
   "execution_count": 46,
   "metadata": {},
   "outputs": [
    {
     "name": "stdout",
     "output_type": "stream",
     "text": [
      "1\n",
      "2\n",
      "3\n",
      "4\n",
      "El número 5 es múltiplo de 5, se rompe el bucle\n"
     ]
    }
   ],
   "source": [
    "# Con el bucle while se usaria el contador\n",
    "contador = 1\n",
    "\n",
    "while contador <= 100: # Aquí indicamos que el número máximo es 100 para continuar con el bucle\n",
    "    if contador % 5 != 0:\n",
    "        print(contador)\n",
    "        contador += 1\n",
    "    else:\n",
    "        print(f'El número {contador} es múltiplo de 5, se rompe el bucle')\n",
    "        break # Rompe el bucle si se llega a este bloque de codigo\n"
   ]
  },
  {
   "cell_type": "markdown",
   "metadata": {},
   "source": [
    "#### Sentencia continue\n",
    "\n",
    "Esta sentencia se utiliza para en vez de romper el bucle, saltar la iteración actual a la siguiente. \n",
    "\n",
    "Un ejemplo sería por ejemplo imprimir todos los números del 1 al 10 pero sólo los impares. Es decir, se puede realizar un bucle que imprima los números del 1 al 10, evitando los pares, pero sin romper el bucle como sucede con break."
   ]
  },
  {
   "cell_type": "code",
   "execution_count": 47,
   "metadata": {},
   "outputs": [
    {
     "name": "stdout",
     "output_type": "stream",
     "text": [
      "1\n",
      "3\n",
      "5\n",
      "7\n",
      "9\n"
     ]
    }
   ],
   "source": [
    "# Con el bucle for se usaría el rango de 1 a 11\n",
    "\n",
    "for num in range(1, 11):\n",
    "    if num % 2 == 0: # Se saltan los números pares\n",
    "        continue\n",
    "    print(num) # En caso de no se un número par se imprime"
   ]
  },
  {
   "cell_type": "code",
   "execution_count": 48,
   "metadata": {},
   "outputs": [
    {
     "name": "stdout",
     "output_type": "stream",
     "text": [
      "1\n",
      "3\n",
      "5\n",
      "7\n",
      "9\n"
     ]
    }
   ],
   "source": [
    "# Con el bucle while se usaria el contador\n",
    "contador = 1\n",
    "\n",
    "while contador <= 10:\n",
    "    if contador % 2 == 0: # Se saltan los números pares\n",
    "        contador += 1 # IMPORTANTE añadir al contador +1 antes de continuar\n",
    "        continue\n",
    "    print(contador) # Rompe el bucle si se llega a este bloque de codigo\n",
    "    contador += 1 # Añadimos +1 al contador para continuar con el bucle\n"
   ]
  },
  {
   "cell_type": "markdown",
   "metadata": {},
   "source": [
    "## 3. Lista por comprensión\n",
    "\n",
    "Las listas por comprensión son formas de crear listas en una sola linea en combinación con el bucle for. Estas se basan en otras listas o iterables (p. ej. rangos) y usan el bucle for para recorrerlas y generar la nueva lista. La sintáxis básica es la siguiente: \n",
    "\n",
    "    lista_comprension = [x for x in iterable]\n",
    "\n",
    "Esta sería la forma acortada en una sola linea que equivaldría a realizar un bucle for y añadir cada elemento a la lista:\n",
    "\n",
    "    lista_bucle = []\n",
    "\n",
    "    for x in iterable:\n",
    "        lista_bucle.append(x)\n",
    "\n",
    "\n",
    "Por ejemplo, vamos a crear una lista por comprensión de los cubos de todos los números del 0 al 10."
   ]
  },
  {
   "cell_type": "code",
   "execution_count": 54,
   "metadata": {},
   "outputs": [
    {
     "name": "stdout",
     "output_type": "stream",
     "text": [
      "[0, 1, 8, 27, 64, 125, 216, 343, 512, 729, 1000]\n"
     ]
    }
   ],
   "source": [
    "num_cubos = [num**3 for num in range(11)] # Esta es la forma de generar la lista por comprensión\n",
    "print(num_cubos)"
   ]
  },
  {
   "cell_type": "markdown",
   "metadata": {},
   "source": [
    "Además, dentro de estas listas por comprensión también se puede hacer uso del if. De esta forma, podemos crear filtros para crear la nueva lista.\n",
    "\n",
    "Por ejemplo, vamos a crear una nueva lista de cubos pero que solamente contenga los números pares. Para ello, podemos iterar sobre la lista ya creada de num_cubos\n"
   ]
  },
  {
   "cell_type": "code",
   "execution_count": 58,
   "metadata": {},
   "outputs": [
    {
     "name": "stdout",
     "output_type": "stream",
     "text": [
      "[0, 8, 64, 216, 512, 1000]\n"
     ]
    }
   ],
   "source": [
    "# Aquí en vez de usar el rango se puede usar la lista de num_cubos\n",
    "num_cubos_pares = [num for num in num_cubos if num % 2 == 0]\n",
    "print(num_cubos_pares) # Crea una lista nueva que cumplen la condicion de %2 == 0 (pares) de dentro de la lista num_cubos"
   ]
  },
  {
   "cell_type": "markdown",
   "metadata": {},
   "source": [
    "También se pueden usar en iterables no numéricas. Por ejemplo, podríamos convertir todas los elementos de una lista de letras en mayúsculas usando este método."
   ]
  },
  {
   "cell_type": "code",
   "execution_count": 62,
   "metadata": {},
   "outputs": [
    {
     "name": "stdout",
     "output_type": "stream",
     "text": [
      "['A', 'B', 'C', 'D', 'E', 'F', 'G']\n"
     ]
    }
   ],
   "source": [
    "lista_minusculas = ['a', 'b', 'c', 'd', 'e', 'f', 'g']\n",
    "\n",
    "lista_mayusculas = [letra.upper() for letra in lista_minusculas] #Esto itera sobre cada letra y la devuelve en mayúscula aplicando el método uppper()\n",
    "print(lista_mayusculas)"
   ]
  },
  {
   "cell_type": "markdown",
   "metadata": {},
   "source": [
    "## 4. Argumento\n",
    "\n",
    "Los argumentos son valores que se pasan dentro de una función y se usan cuando se llama a la función. Hay distintos tipos de argumentos: posicionales, de palabras clave, predeterminados, multiples argumentos posicionales y múltiples argumentos de palabas clave"
   ]
  },
  {
   "cell_type": "markdown",
   "metadata": {},
   "source": [
    "### 4.1. Argumentos posicionales\n",
    "\n",
    "Este tipo de argumentos es el mas básico y el orden exacto es muy importante, ya que se asignan por posición."
   ]
  },
  {
   "cell_type": "code",
   "execution_count": null,
   "metadata": {},
   "outputs": [
    {
     "name": "stdout",
     "output_type": "stream",
     "text": [
      "Hola Jon Gonzalez!\n"
     ]
    }
   ],
   "source": [
    "# Vamos a crear una función para saludar\n",
    "\n",
    "def saludar(nombre, apellido):\n",
    "    print(f'Hola {nombre} {apellido}!') # Esto imprime el nombre y el \n",
    "    \n",
    "saludar('Jon', 'Gonzalez') # El orden es muy importante ya que el primer argumento tiene que ser el nombre y el segundo el apellido, sino se imprime al revés"
   ]
  },
  {
   "cell_type": "code",
   "execution_count": 67,
   "metadata": {},
   "outputs": [
    {
     "name": "stdout",
     "output_type": "stream",
     "text": [
      "Hola Gonzalez Jon!\n"
     ]
    }
   ],
   "source": [
    "# Por ejemplo, si mencionamos primero el apellido, se imprimiría al revés\n",
    "\n",
    "saludar('Gonzalez', 'Jon')"
   ]
  },
  {
   "cell_type": "markdown",
   "metadata": {},
   "source": [
    "### 4.2. Argumentos de palabras clave o nombrados\n",
    "\n",
    "A diferencia de los posicionales, en este caso el orden no importa. En este caso, al llamar a la función se menciona el argumento de forma que el orden es irrelevante"
   ]
  },
  {
   "cell_type": "code",
   "execution_count": 68,
   "metadata": {},
   "outputs": [
    {
     "name": "stdout",
     "output_type": "stream",
     "text": [
      "Hola Jon Gonzalez!\n"
     ]
    }
   ],
   "source": [
    "# Llamamos a la función anterior nombrando los argumentos \n",
    "\n",
    "saludar(apellido='Gonzalez', nombre='Jon') # De esta forma se consigue imprimir el saludo de forma adecuada sin ordenar los argumentos all llamar a la función"
   ]
  },
  {
   "cell_type": "markdown",
   "metadata": {},
   "source": [
    "### 4.3. Argumentos predeterminados\n",
    "\n",
    "Un argumento también puede venir por defecto en la misma función al crearla. De esta forma, si no se proporciona un valor a ese argumento al llamar a la función, se imprime el valor predeterminado."
   ]
  },
  {
   "cell_type": "code",
   "execution_count": 73,
   "metadata": {},
   "outputs": [
    {
     "name": "stdout",
     "output_type": "stream",
     "text": [
      "Hoy es Martes y el plato principal es pizza\n",
      "Hoy es Miércoles y el plato principal es paella\n"
     ]
    }
   ],
   "source": [
    "#En la siguiente función el argumento predeterminado es comida, por defecto siempre va a ser 'pizza' si no se proporciona otro valor\n",
    "\n",
    "def menu(dia, comida='pizza'):\n",
    "    print(f'Hoy es {dia} y el plato principal es {comida}')\n",
    "\n",
    "menu('Martes') # Sin proporcionar un valor para comida se imprime pizza\n",
    "menu('Miércoles', 'paella') # De esta forma, tanto nombrado o podicional, se modifica el valor predeterminado al imprimir el menú"
   ]
  },
  {
   "cell_type": "markdown",
   "metadata": {},
   "source": [
    "### 4.4. Múltiples argumentos posicionales: *args\n",
    "\n",
    "*args es un tipo de argumento que permite pasar varios valores posicionales en una sola función sin especificar la cantidad. Estos valores se reciben como tuplas dentro de la función.\n",
    "\n",
    "Por ejemplo, vamos a calcular la suma de n valores:"
   ]
  },
  {
   "cell_type": "code",
   "execution_count": 78,
   "metadata": {},
   "outputs": [
    {
     "name": "stdout",
     "output_type": "stream",
     "text": [
      "La suma total es: 6\n",
      "La suma total es: 28\n"
     ]
    }
   ],
   "source": [
    "def suma(*args):\n",
    "    total = sum(args)\n",
    "    print(f'La suma total es: {total}')\n",
    "\n",
    "# como no se especifican cantidad de argumentos, se pueden añadir diferentes cantidades deseadas\n",
    "suma(1, 2, 3)\n",
    "suma(1, 2, 3, 4, 5, 6, 7)"
   ]
  },
  {
   "cell_type": "markdown",
   "metadata": {},
   "source": [
    "### 4.5. Múltiples argumentos de palabras clave o nombrados\n",
    "\n",
    "Este tipo de argumeno permite pasar valores de palabra clave. Es decir, se pasan a la función especificando el nombre del parámetro junto a su valor (clave-valor).\n",
    "\n",
    "Por ejemplo, vamos a crear una función para describir un coche:"
   ]
  },
  {
   "cell_type": "code",
   "execution_count": 85,
   "metadata": {},
   "outputs": [
    {
     "name": "stdout",
     "output_type": "stream",
     "text": [
      "Coche 1:\n",
      "marca: Toyota\n",
      "color: Negro\n",
      "matricula: ABCD123\n",
      "\n",
      "Coche 2:\n",
      "marca: Ford\n",
      "color: Blanco\n",
      "matricula: CDEF456\n",
      "puertas: 5\n",
      "fecha: 2014\n"
     ]
    }
   ],
   "source": [
    "def coche(**kwargs):\n",
    "    for clave, valor in kwargs.items():\n",
    "        print(f'{clave}: {valor}')\n",
    "\n",
    "# De esta forma podemos imprimir la combinación de claves y valores indiferentemente de la cantidad que se pasen\n",
    "print('Coche 1:')\n",
    "coche(marca='Toyota', color='Negro', matricula='ABCD123')\n",
    "\n",
    "print('\\nCoche 2:') # Uso \\n para separarlo del ejemplo anterior y que se vea mejor\n",
    "coche(marca='Ford', color='Blanco', matricula='CDEF456', puertas=5, fecha= 2014)"
   ]
  },
  {
   "cell_type": "markdown",
   "metadata": {},
   "source": [
    "### 4.6. Combinaciones de argumentos\n",
    "\n",
    "Los argumentos anteriores pueden se combinados en una misma función."
   ]
  },
  {
   "cell_type": "code",
   "execution_count": 94,
   "metadata": {},
   "outputs": [
    {
     "name": "stdout",
     "output_type": "stream",
     "text": [
      "Hola Sara Pérez, hoy es Martes.\n",
      "Las peliculas disponibles de hoy son las siguientes:\n",
      "sala_1: El rey león\n",
      "sala_2: La sirenita\n",
      "sala_3: Spiderman\n"
     ]
    }
   ],
   "source": [
    "def cine(dia, *args, **kwargs):\n",
    "    print(f\"Hola {' '.join(args)}, hoy es {dia}.\") # Usando ' '.join() juntamos con un espacio de por medio los argumentos que se pasen, de forma ordenada\n",
    "\n",
    "    if kwargs:\n",
    "        print('Las peliculas disponibles de hoy son las siguientes:')\n",
    "        for clave, valor in kwargs.items():\n",
    "            print(f'{clave}: {valor}')\n",
    "\n",
    "cine('Martes', 'Sara', 'Pérez', sala_1 = 'El rey león', sala_2 = 'La sirenita', sala_3 = 'Spiderman')"
   ]
  },
  {
   "cell_type": "markdown",
   "metadata": {},
   "source": [
    "## 5. Función Lambda\n",
    "\n",
    "Las funciones lambda son funciones pequeñas y sin nombre de una sola línea. Se usan cuando se necesita una función rápida sin tener que definirla con def.\n",
    "Su sintaxis básica es la siguiente:\n",
    "    \n",
    "    lambda argumentos: expresión\n",
    "\n",
    "Lambda es la palabra clave para definir la función. Los argumentos son los parámetros que se le pasan a la función. La expresión es la operación que realiza junto al resultado que tiene que devolver.\n",
    "\n",
    "Por ejemplo, vamos a crear una función lambda que sume dos números:"
   ]
  },
  {
   "cell_type": "code",
   "execution_count": 96,
   "metadata": {},
   "outputs": [
    {
     "name": "stdout",
     "output_type": "stream",
     "text": [
      "3\n"
     ]
    }
   ],
   "source": [
    "suma = lambda a,b: a + b\n",
    "resultado = suma(1,2)\n",
    "print(resultado)"
   ]
  },
  {
   "cell_type": "markdown",
   "metadata": {},
   "source": [
    "Se pueden usar cualquiera de los argumentos anteriormente explicados, por ejemplo vamos a usar *args para crear una función lambda de suma sin tener que especificar la cantidad de núemeros."
   ]
  },
  {
   "cell_type": "code",
   "execution_count": null,
   "metadata": {},
   "outputs": [
    {
     "name": "stdout",
     "output_type": "stream",
     "text": [
      "El primer resultado es 6 y el segundo 21\n"
     ]
    }
   ],
   "source": [
    "suma = lambda *args: sum(args)\n",
    "\n",
    "# De esta forma, se peude crera una función equivalente a la de la sección 4.4. pero usando lambda en vez de def pasando de 3 líneas de código a una sola\n",
    "resultado1 = suma(1,2,3)\n",
    "resultado2 = suma(1, 2, 3, 4, 5, 6)\n",
    "print(f'El primer resultado es {resultado1} y el segundo {resultado2}')"
   ]
  },
  {
   "cell_type": "markdown",
   "metadata": {},
   "source": [
    "## 6. Paquete pip\n",
    "\n",
    "pip es el gestor de paquetes estándar de Python. El acrónimo pip se refiere tanto a 'pip installs packages' como a 'pip installs python'. Este gestor permite instalar, desinstalar y actualizar paquetes y dependencias de Python. \n",
    "pip conecta el entorno de Python con el índice de Paquetes de Python, también conocido como PyPI, donde se encuentran múltiples paquetes externos creados por otras personas que se pueden instalar en Python.\n",
    "\n",
    "Lo primero que hay que hacer es instalar pip en el sistema. En la página donde se encuentra la documentación de pip (https://pip.pypa.io/en/stable/installation/) hay que descargar el script que se encuentra en el siguiente link:\n",
    "\n",
    "    https://bootstrap.pypa.io/get-pip.py\n",
    "\n",
    "Este es valido para Linux, MaxOS y Windows. Una vez guardado, hay que abrir el terminal y ahí hacer cd a la carpeta donde se encuentra el archivo descargado. Después en la terminal hay que escribir el siguiente comando:\n",
    "\n",
    "    Linux / MacOS: python get-pip.py\n",
    "\n",
    "    Windows: C:> py get-pip.py\n",
    "\n",
    "Esto instala la libreria pip completa en el sistema. Para ver si se ha instalado correctamente, se puede ver la versión descargada de pip junto a la version actual de python usando el siguiente comando:\n",
    "\n",
    "    pip --version\n",
    "\n",
    "Si muestra la versión significa que se ha instalado correctamente, pero si aparece un mensaje de error, puede ser que el archivo no se haya descargado de forma correcta el archivo anterior.\n",
    "\n",
    "\n",
    "Una vez obtenido pip correctamente, los paquetes se instalan de la siguiente forma:\n",
    "\n",
    "    pip install nombre_paquete\n",
    "\n",
    "Por ejemplo, para instalar la librería de pandas sería:\n",
    "\n",
    "    pip install pandas\n",
    "\n",
    "Una vez instalada la librería deseada, cuando se quiera usar en el código hay que importarla primero:\n",
    "\n",
    "    import pandas as pd\n",
    "\n",
    "El término as pd significa que al usar alguna función dentro de la librería pandas, en vez de escribir pandas.función() se reduce a pd.función(). Por ejemplo al leer un archivo excel:\n",
    "\n",
    "    En vez de: pandas.read_excel('archivo.xlsx')\n",
    "\n",
    "    Se reduce a: pd.read_excel('archivo.xlsx')\n",
    "\n",
    "Si por el contrario se quiere desinstalar un paquete, se puede usar pip uninstall:\n",
    "\n",
    "    pip uninstall pandas\n",
    "\n",
    "También se pueden actualizar paquetes usando el siguiente comando:\n",
    "\n",
    "    pip install --upgrade pandas"
   ]
  }
 ],
 "metadata": {
  "kernelspec": {
   "display_name": "base",
   "language": "python",
   "name": "python3"
  },
  "language_info": {
   "codemirror_mode": {
    "name": "ipython",
    "version": 3
   },
   "file_extension": ".py",
   "mimetype": "text/x-python",
   "name": "python",
   "nbconvert_exporter": "python",
   "pygments_lexer": "ipython3",
   "version": "3.11.8"
  }
 },
 "nbformat": 4,
 "nbformat_minor": 2
}
